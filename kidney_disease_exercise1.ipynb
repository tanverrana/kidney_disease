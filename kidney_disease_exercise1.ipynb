{
  "nbformat": 4,
  "nbformat_minor": 0,
  "metadata": {
    "colab": {
      "provenance": [],
      "mount_file_id": "1esfUCot7DDzmJ5ag29tJ5Kx_Bk_o80rt",
      "authorship_tag": "ABX9TyMwi/ovsyeiR1qaePeYQbcX",
      "include_colab_link": true
    },
    "kernelspec": {
      "name": "python3",
      "display_name": "Python 3"
    },
    "language_info": {
      "name": "python"
    }
  },
  "cells": [
    {
      "cell_type": "markdown",
      "metadata": {
        "id": "view-in-github",
        "colab_type": "text"
      },
      "source": [
        "<a href=\"https://colab.research.google.com/github/tanverrana/kidney_disease/blob/main/kidney_disease_exercise1.ipynb\" target=\"_parent\"><img src=\"https://colab.research.google.com/assets/colab-badge.svg\" alt=\"Open In Colab\"/></a>"
      ]
    },
    {
      "cell_type": "code",
      "execution_count": null,
      "metadata": {
        "id": "YEXiyw1IvIlm"
      },
      "outputs": [],
      "source": [
        "import pandas as pd\n",
        "from sklearn.decomposition import PCA\n",
        "import matplotlib.pyplot as plt\n",
        "import numpy as np "
      ]
    },
    {
      "cell_type": "code",
      "source": [
        "dataset = pd.read_csv(\"/content/drive/MyDrive/Bangladesh University/9th semester/pattern_recognation_lab/processed_kidney_disease.csv\")\n",
        "array = dataset.values\n",
        "X = array[:,1:24]\n",
        "Y = array[:,24]\n"
      ],
      "metadata": {
        "id": "lyb4bhWpwnhB"
      },
      "execution_count": null,
      "outputs": []
    },
    {
      "cell_type": "code",
      "source": [
        "pca = PCA().fit(X)\n",
        "plt.plot(np.cumsum(pca.explained_variance_ratio_))\n",
        "plt.grid(axis = \"x\")\n",
        "plt.grid(axis = \"y\")\n",
        "plt.xlabel('Number of Components')\n",
        "plt.ylabel('variance')"
      ],
      "metadata": {
        "colab": {
          "base_uri": "https://localhost:8080/",
          "height": 297
        },
        "id": "RTZefOX70b3V",
        "outputId": "cfac1557-3f8d-4830-e962-4548ad78bc55"
      },
      "execution_count": null,
      "outputs": [
        {
          "output_type": "execute_result",
          "data": {
            "text/plain": [
              "Text(0, 0.5, 'variance')"
            ]
          },
          "metadata": {},
          "execution_count": 4
        },
        {
          "output_type": "display_data",
          "data": {
            "text/plain": [
              "<Figure size 432x288 with 1 Axes>"
            ],
            "image/png": "[encoded data removed]"
          },
          "metadata": {
            "needs_background": "light"
          }
        }
      ]
    },
    {
      "cell_type": "code",
      "source": [
        "from sklearn.discriminant_analysis import LinearDiscriminantAnalysis as LDA"
      ],
      "metadata": {
        "id": "qrorvMgr2duU"
      },
      "execution_count": null,
      "outputs": []
    },
    {
      "cell_type": "code",
      "source": [
        "lda = LDA(n_components =1).fit_transform(X,Y)\n",
        "print(lda)"
      ],
      "metadata": {
        "colab": {
          "base_uri": "https://localhost:8080/"
        },
        "id": "Pzc4K_pO3AbC",
        "outputId": "2e4fb73a-6e4a-4c33-b3e9-4bae3bd3ef7c"
      },
      "execution_count": null,
      "outputs": [
        {
          "output_type": "stream",
          "name": "stdout",
          "text": [
            "[[ 9.17385821]\n",
            " [ 8.15301567]\n",
            " [ 8.8933545 ]\n",
            " [ 9.04533813]\n",
            " [ 7.22413078]\n",
            " [ 7.75909641]\n",
            " [ 7.66291925]\n",
            " [ 6.04572147]\n",
            " [ 8.41934769]\n",
            " [ 6.71656357]\n",
            " [ 8.79784962]\n",
            " [ 8.54735142]\n",
            " [ 6.60300977]\n",
            " [ 5.72670062]\n",
            " [ 6.65009831]\n",
            " [ 9.12874426]\n",
            " [ 9.80678076]\n",
            " [ 9.06057562]\n",
            " [ 8.49788871]\n",
            " [ 4.66602037]\n",
            " [ 8.01606374]\n",
            " [ 5.26795444]\n",
            " [ 9.39658739]\n",
            " [ 9.34079059]\n",
            " [ 6.73865011]\n",
            " [ 4.48752053]\n",
            " [ 7.71135546]\n",
            " [ 7.81877669]\n",
            " [ 5.01970147]\n",
            " [10.17525127]\n",
            " [ 9.98608488]\n",
            " [ 9.80421182]\n",
            " [10.52367031]\n",
            " [ 9.08389481]\n",
            " [ 5.51782863]\n",
            " [ 7.30650855]\n",
            " [ 9.37323453]\n",
            " [ 9.61220009]\n",
            " [ 9.22112602]\n",
            " [ 9.55749324]\n",
            " [ 9.54332877]\n",
            " [ 7.3330504 ]\n",
            " [10.25814671]\n",
            " [-2.04551983]\n",
            " [-3.59878671]\n",
            " [-3.13447192]\n",
            " [-3.3943114 ]\n",
            " [-2.72446879]\n",
            " [-3.46038397]\n",
            " [-2.63654224]\n",
            " [-2.09966476]\n",
            " [-2.41094371]\n",
            " [-3.0267877 ]\n",
            " [-2.41308847]\n",
            " [-2.75318542]\n",
            " [-2.34479056]\n",
            " [-2.04618492]\n",
            " [-2.98886828]\n",
            " [-2.44892621]\n",
            " [-2.18126841]\n",
            " [-2.92462455]\n",
            " [-3.55464696]\n",
            " [-3.28594636]\n",
            " [-2.74915351]\n",
            " [-3.24038176]\n",
            " [-2.94795233]\n",
            " [-3.1273797 ]\n",
            " [-2.51236517]\n",
            " [-3.7999894 ]\n",
            " [-3.19647756]\n",
            " [-2.43142595]\n",
            " [-4.01130227]\n",
            " [-3.0024339 ]\n",
            " [-2.68971337]\n",
            " [-2.94200146]\n",
            " [-3.16679195]\n",
            " [-2.09172901]\n",
            " [-2.93876285]\n",
            " [-1.91432982]\n",
            " [-2.35522254]\n",
            " [-3.66981181]\n",
            " [-2.72405051]\n",
            " [-2.00684076]\n",
            " [-3.5979165 ]\n",
            " [-2.8110056 ]\n",
            " [-2.91859671]\n",
            " [-1.88763424]\n",
            " [-3.70206994]\n",
            " [-2.7424768 ]\n",
            " [-2.66681599]\n",
            " [-2.05068861]\n",
            " [-3.45615636]\n",
            " [-2.78708149]\n",
            " [-2.24103803]\n",
            " [-3.04000694]\n",
            " [-3.14151079]\n",
            " [-2.42337441]\n",
            " [-3.13410328]\n",
            " [-3.65773098]\n",
            " [-3.44364289]\n",
            " [-3.61775021]\n",
            " [-1.81780938]\n",
            " [-3.71213009]\n",
            " [-3.44528958]\n",
            " [-2.3497319 ]\n",
            " [-3.63744793]\n",
            " [-3.40289607]\n",
            " [-2.87985183]\n",
            " [-3.703087  ]\n",
            " [-2.84849312]\n",
            " [-3.28166126]\n",
            " [-3.74295924]\n",
            " [-3.36672743]\n",
            " [-1.72420525]\n",
            " [-2.79048166]\n",
            " [-3.56874542]\n",
            " [-3.73336881]\n",
            " [-3.30884847]\n",
            " [-3.92887762]\n",
            " [-2.18914072]\n",
            " [-3.04221896]\n",
            " [-3.51531812]\n",
            " [-3.48472967]\n",
            " [-3.47684978]\n",
            " [-2.58930026]\n",
            " [-2.28202192]\n",
            " [-2.73696981]\n",
            " [-3.78950668]\n",
            " [-3.31245288]\n",
            " [-1.92645429]\n",
            " [-2.3864882 ]\n",
            " [-4.02022287]\n",
            " [-2.86926215]\n",
            " [-2.70579402]\n",
            " [-3.60941512]\n",
            " [-2.48358071]\n",
            " [-3.71293267]\n",
            " [-3.13310531]\n",
            " [-3.89220094]\n",
            " [-3.00293159]\n",
            " [-4.12058947]\n",
            " [-3.6627378 ]\n",
            " [-2.13228153]\n",
            " [-3.11312557]\n",
            " [-4.07238872]\n",
            " [-3.55544736]\n",
            " [-2.86323861]\n",
            " [-3.62096594]\n",
            " [-3.41348543]\n",
            " [-4.14289585]\n",
            " [-3.13415103]\n",
            " [-3.43921514]\n",
            " [-1.61236742]\n",
            " [-3.17286463]\n",
            " [-3.93549361]\n",
            " [-2.82733802]\n",
            " [-3.20852125]\n",
            " [-3.93005296]]\n"
          ]
        }
      ]
    },
    {
      "cell_type": "code",
      "source": [
        "!pip install pymrmr\n",
        "import pymrmr"
      ],
      "metadata": {
        "colab": {
          "base_uri": "https://localhost:8080/"
        },
        "id": "gbgNNZ9D7dGk",
        "outputId": "f3aefdda-9db4-41a1-99a7-260afafa3b3f"
      },
      "execution_count": null,
      "outputs": [
        {
          "output_type": "stream",
          "name": "stdout",
          "text": [
            "Looking in indexes: https://pypi.org/simple, https://us-python.pkg.dev/colab-wheels/public/simple/\n",
            "Collecting pymrmr\n",
            "  Downloading pymrmr-0.1.11.tar.gz (69 kB)\n",
            "\u001b[K     |████████████████████████████████| 69 kB 4.9 MB/s \n",
            "\u001b[?25hRequirement already satisfied: numpy>=1.19.5 in /usr/local/lib/python3.7/dist-packages (from pymrmr) (1.21.6)\n",
            "Building wheels for collected packages: pymrmr\n",
            "  Building wheel for pymrmr (setup.py) ... \u001b[?25l\u001b[?25hdone\n",
            "  Created wheel for pymrmr: filename=pymrmr-0.1.11-cp37-cp37m-linux_x86_64.whl size=276660 sha256=a22bfdb2f0400ebb6fc0dde97f2c4ad9941fa2888da5f12e137fefb389121881\n",
            "  Stored in directory: /root/.cache/pip/wheels/81/95/66/05731ac334bc74a1251a727af18eb28dc027217ee817a0cab6\n",
            "Successfully built pymrmr\n",
            "Installing collected packages: pymrmr\n",
            "Successfully installed pymrmr-0.1.11\n"
          ]
        }
      ]
    },
    {
      "cell_type": "code",
      "source": [
        "p= pymrmr.mRMR(dataset, 'MIQ',4)\n",
        "print(p)"
      ],
      "metadata": {
        "colab": {
          "base_uri": "https://localhost:8080/"
        },
        "id": "SMYxv6Ky7nCS",
        "outputId": "cfa500c3-0d94-4c6c-fb24-d88f723850ae"
      },
      "execution_count": null,
      "outputs": [
        {
          "output_type": "stream",
          "name": "stdout",
          "text": [
            "['bgr', 'wc', 'bu', 'pcv']\n"
          ]
        }
      ]
    }
  ]
}